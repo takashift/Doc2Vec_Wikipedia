{
 "cells": [
  {
   "cell_type": "code",
   "execution_count": 1,
   "metadata": {},
   "outputs": [],
   "source": [
    "import gensim\n",
    "import MeCab\n",
    "from sklearn.metrics.pairwise import cosine_similarity\n",
    "import numpy as np\n",
    "import argparse"
   ]
  },
  {
   "cell_type": "code",
   "execution_count": 2,
   "metadata": {},
   "outputs": [],
   "source": [
    "class args:\n",
    "    purpose = \"../test2.txt\"\n",
    "#     model = \"../d2v_model/rakuten_books_Doc2Vec/model/rakuten_D2V_400_NEologd_only_iter55.model\"\n",
    "    model = \"../d2v_model/rakuten_books_Doc2Vec/model/new_rakuten_D2V_100_NEologd_mincount1_default0.model\"\n",
    "#     model = \"../d2v_model/rakuten_books_Doc2Vec/model/new_rakuten_D2V_NEologd_default.model\"\n",
    "#     model = \"../d2v_model/rakuten_books_Doc2Vec/model/new2_rakuten_D2V_100_NEologd_default.model\"\n",
    "#     model = \"../d2v_model/rakuten_books_Doc2Vec/darmae/130m_100d.d2v\"\n",
    "    dictionary = \"\"\n",
    "#     dictionary = \"/usr/lib64/mecab/dic/ipadic\"\n"
   ]
  },
  {
   "cell_type": "code",
   "execution_count": 3,
   "metadata": {},
   "outputs": [],
   "source": [
    "mecab = MeCab.Tagger(\"-Owakati\" + (\"\" if not args.dictionary else \" -d \" + args.dictionary))\n",
    "\n",
    "model = gensim.models.Doc2Vec.load(args.model)"
   ]
  },
  {
   "cell_type": "code",
   "execution_count": 4,
   "metadata": {},
   "outputs": [],
   "source": [
    "purpose = []\n",
    "# answers = []\n",
    "for line in open(args.purpose, \"r\", encoding=\"utf-8\"):\n",
    "    cols = line.strip().split('\\n')\n",
    "    purpose.append(gensim.utils.simple_preprocess(mecab.parse(cols[0]).strip(), min_len=1))\n",
    "#     answers.append(cols[1])"
   ]
  },
  {
   "cell_type": "code",
   "execution_count": 5,
   "metadata": {},
   "outputs": [
    {
     "name": "stdout",
     "output_type": "stream",
     "text": [
      "[(1131620, 0.9631040096282959), (473684, 0.9600311517715454), (997709, 0.958803117275238), (652221, 0.9587234258651733), (1187241, 0.9586612582206726), (678492, 0.9572597742080688), (593507, 0.9567910432815552), (69825, 0.9567413330078125), (1149209, 0.9565852880477905), (371532, 0.9564661979675293)]\n"
     ]
    }
   ],
   "source": [
    "# 学習モデルから新規文章のベクトルを推定\n",
    "# doc_vecs = []\n",
    "# for pp in purpose:\n",
    "        # alpha=0.1, min_alpha=0.0001, steps=5\n",
    "#     doc_vecs.append(model.infer_vector(pp))\n",
    "\n",
    "print(model.docvecs.most_similar(0))"
   ]
  },
  {
   "cell_type": "code",
   "execution_count": 6,
   "metadata": {},
   "outputs": [
    {
     "name": "stdout",
     "output_type": "stream",
     "text": [
      "> 洗濯をしたいので、明日の朝の天気が知りたい。\n",
      "1 位： 0.771795442478 ['洗濯', 'が', 'し', 'たい', 'ので', '翌日', 'の', '天気', 'が', '知り', 'たい']\n",
      "2 位： 0.566183918747 ['噴火警報', '火口', '周辺', '警報', '噴火', '予報', 'について', '教え', 'て', 'ください']\n",
      "3 位： 0.515400842622 ['明日', '運動会', 'が', '有る', 'ので', '天気', 'が', '知り', 'たい']\n",
      "4 位： 0.440459477277 ['洗濯', 'を', 'し', 'たい', 'ので', '翌朝', 'の', '天気', 'が', '知り', 'たい']\n",
      "5 位： 0.328053991085 ['津波', 'の', '高さ', 'によって', 'どの', 'よう', 'な', '被害', 'が', '発生', 'する', 'の', 'です', 'か']\n",
      "6 位： 0.316430080556 ['台風', 'で', '大学', 'が', '休講', 'に', 'なる', 'かも', 'しれ', 'ない', 'ので', '明日', 'の', '朝', 'の', '天気', 'を', '見', 'たい']\n",
      "7 位： 0.227958788341 ['地震', 'の', '予知', 'は', 'でき', 'ます', 'か']\n",
      "8 位： 0.16810509646 ['雪', 'は', 'どうして', 'できる', 'の', 'です', 'か']\n",
      "9 位： 0.163192056088 ['副振動', 'と', 'は', '何', 'です', 'か']\n",
      "10 位： 0.156121551856 ['竜巻', 'は', 'どうして', '起きる', 'の', 'です', 'か']\n",
      "> 洗濯をしたいので、明日の朝の天気が知りたい。\n",
      "1 位： 0.596655511329 ['台風', 'で', '大学', 'が', '休講', 'に', 'なる', 'かも', 'しれ', 'ない', 'ので', '明日', 'の', '朝', 'の', '天気', 'を', '見', 'たい']\n",
      "2 位： 0.441390928701 ['テレビ局', 'によって', '天気予報', 'の', '内容', 'が', '違う', 'こと', 'が', 'ある', 'の', 'は', 'なぜ', 'です', 'か']\n",
      "3 位： 0.411628245171 ['明日', '運動会', 'が', '有る', 'ので', '天気', 'が', '知り', 'たい']\n",
      "4 位： 0.363641270482 ['洗濯', 'を', 'し', 'たい', 'ので', '翌朝', 'の', '天気', 'が', '知り', 'たい']\n",
      "5 位： 0.302559473303 ['検定', 'が', '必要', 'と', 'なる', '気象', '測', '器', 'に', 'は', 'どんな', 'もの', 'が', 'あり', 'ます', 'か']\n",
      "6 位： 0.271656943045 ['噴火警報', '火口', '周辺', '警報', '噴火', '予報', 'について', '教え', 'て', 'ください']\n",
      "7 位： 0.25969423135 ['特別警報', 'と', '既存', 'の', '記録的短時間大雨情報', 'の', '違い', 'は', '何', 'です', 'か', '廃止', 'さ', 'れ', 'たり', 'は', 'し', 'ない', 'の', 'です', 'か']\n",
      "8 位： 0.253892738682 ['洗濯', 'が', 'し', 'たい', 'ので', '翌日', 'の', '天気', 'が', '知り', 'たい']\n",
      "9 位： 0.243797785261 ['週間', '天気予報', 'は', 'よく', '外れる', 'ので', '日', '先', 'くらい', 'の', '予報', 'だけ', 'で', '良い', 'の', 'で', 'は', 'ない', 'です', 'か']\n",
      "10 位： 0.229188100424 ['副振動', 'と', 'は', '何', 'です', 'か']\n",
      "> 洗濯をしたいので、明日の朝の天気が知りたい。\n",
      "1 位： 0.642580671513 ['明日', '運動会', 'が', '有る', 'ので', '天気', 'が', '知り', 'たい']\n",
      "2 位： 0.515331776159 ['洗濯', 'が', 'し', 'たい', 'ので', '翌日', 'の', '天気', 'が', '知り', 'たい']\n",
      "3 位： 0.391417785279 ['地震', 'の', '予知', 'は', 'でき', 'ます', 'か']\n",
      "4 位： 0.328826669593 ['噴火警報', '火口', '周辺', '警報', '噴火', '予報', 'について', '教え', 'て', 'ください']\n",
      "5 位： 0.247106504991 ['台風', 'で', '大学', 'が', '休講', 'に', 'なる', 'かも', 'しれ', 'ない', 'ので', '明日', 'の', '朝', 'の', '天気', 'を', '見', 'たい']\n",
      "6 位： 0.231439581125 ['空', 'は', 'どうして', '青い', 'の', 'です', 'か', '夕焼け', 'は', 'どうして', '赤い', 'の', 'です', 'か']\n",
      "7 位： 0.225037222801 ['週間', '天気予報', 'は', 'よく', '外れる', 'ので', '日', '先', 'くらい', 'の', '予報', 'だけ', 'で', '良い', 'の', 'で', 'は', 'ない', 'です', 'か']\n",
      "8 位： 0.218842795653 ['副振動', 'と', 'は', '何', 'です', 'か']\n",
      "9 位： 0.199041196485 ['検定', 'が', '必要', 'と', 'なる', '気象', '測', '器', 'に', 'は', 'どんな', 'もの', 'が', 'あり', 'ます', 'か']\n",
      "10 位： 0.17730825395 ['週間', '天気予報', 'が', '外れる', 'こと', 'が', 'あり', 'ます', 'が', 'なぜ', 'です', 'か']\n"
     ]
    },
    {
     "ename": "KeyboardInterrupt",
     "evalue": "",
     "output_type": "error",
     "traceback": [
      "\u001b[0;31m---------------------------------------------------------------------------\u001b[0m",
      "\u001b[0;31mKeyboardInterrupt\u001b[0m                         Traceback (most recent call last)",
      "\u001b[0;32m/usr/lib/python3.6/site-packages/ipykernel/kernelbase.py\u001b[0m in \u001b[0;36m_input_request\u001b[0;34m(self, prompt, ident, parent, password)\u001b[0m\n\u001b[1;32m    728\u001b[0m             \u001b[0;32mtry\u001b[0m\u001b[0;34m:\u001b[0m\u001b[0;34m\u001b[0m\u001b[0m\n\u001b[0;32m--> 729\u001b[0;31m                 \u001b[0mident\u001b[0m\u001b[0;34m,\u001b[0m \u001b[0mreply\u001b[0m \u001b[0;34m=\u001b[0m \u001b[0mself\u001b[0m\u001b[0;34m.\u001b[0m\u001b[0msession\u001b[0m\u001b[0;34m.\u001b[0m\u001b[0mrecv\u001b[0m\u001b[0;34m(\u001b[0m\u001b[0mself\u001b[0m\u001b[0;34m.\u001b[0m\u001b[0mstdin_socket\u001b[0m\u001b[0;34m,\u001b[0m \u001b[0;36m0\u001b[0m\u001b[0;34m)\u001b[0m\u001b[0;34m\u001b[0m\u001b[0m\n\u001b[0m\u001b[1;32m    730\u001b[0m             \u001b[0;32mexcept\u001b[0m \u001b[0mException\u001b[0m\u001b[0;34m:\u001b[0m\u001b[0;34m\u001b[0m\u001b[0m\n",
      "\u001b[0;32m/usr/lib/python3.6/site-packages/jupyter_client/session.py\u001b[0m in \u001b[0;36mrecv\u001b[0;34m(self, socket, mode, content, copy)\u001b[0m\n\u001b[1;32m    802\u001b[0m         \u001b[0;32mtry\u001b[0m\u001b[0;34m:\u001b[0m\u001b[0;34m\u001b[0m\u001b[0m\n\u001b[0;32m--> 803\u001b[0;31m             \u001b[0mmsg_list\u001b[0m \u001b[0;34m=\u001b[0m \u001b[0msocket\u001b[0m\u001b[0;34m.\u001b[0m\u001b[0mrecv_multipart\u001b[0m\u001b[0;34m(\u001b[0m\u001b[0mmode\u001b[0m\u001b[0;34m,\u001b[0m \u001b[0mcopy\u001b[0m\u001b[0;34m=\u001b[0m\u001b[0mcopy\u001b[0m\u001b[0;34m)\u001b[0m\u001b[0;34m\u001b[0m\u001b[0m\n\u001b[0m\u001b[1;32m    804\u001b[0m         \u001b[0;32mexcept\u001b[0m \u001b[0mzmq\u001b[0m\u001b[0;34m.\u001b[0m\u001b[0mZMQError\u001b[0m \u001b[0;32mas\u001b[0m \u001b[0me\u001b[0m\u001b[0;34m:\u001b[0m\u001b[0;34m\u001b[0m\u001b[0m\n",
      "\u001b[0;32m/usr/lib64/python3.6/site-packages/zmq/sugar/socket.py\u001b[0m in \u001b[0;36mrecv_multipart\u001b[0;34m(self, flags, copy, track)\u001b[0m\n\u001b[1;32m    394\u001b[0m         \"\"\"\n\u001b[0;32m--> 395\u001b[0;31m         \u001b[0mparts\u001b[0m \u001b[0;34m=\u001b[0m \u001b[0;34m[\u001b[0m\u001b[0mself\u001b[0m\u001b[0;34m.\u001b[0m\u001b[0mrecv\u001b[0m\u001b[0;34m(\u001b[0m\u001b[0mflags\u001b[0m\u001b[0;34m,\u001b[0m \u001b[0mcopy\u001b[0m\u001b[0;34m=\u001b[0m\u001b[0mcopy\u001b[0m\u001b[0;34m,\u001b[0m \u001b[0mtrack\u001b[0m\u001b[0;34m=\u001b[0m\u001b[0mtrack\u001b[0m\u001b[0;34m)\u001b[0m\u001b[0;34m]\u001b[0m\u001b[0;34m\u001b[0m\u001b[0m\n\u001b[0m\u001b[1;32m    396\u001b[0m         \u001b[0;31m# have first part already, only loop while more to receive\u001b[0m\u001b[0;34m\u001b[0m\u001b[0;34m\u001b[0m\u001b[0m\n",
      "\u001b[0;32mzmq/backend/cython/socket.pyx\u001b[0m in \u001b[0;36mzmq.backend.cython.socket.Socket.recv\u001b[0;34m()\u001b[0m\n",
      "\u001b[0;32mzmq/backend/cython/socket.pyx\u001b[0m in \u001b[0;36mzmq.backend.cython.socket.Socket.recv\u001b[0;34m()\u001b[0m\n",
      "\u001b[0;32mzmq/backend/cython/socket.pyx\u001b[0m in \u001b[0;36mzmq.backend.cython.socket._recv_copy\u001b[0;34m()\u001b[0m\n",
      "\u001b[0;32m/usr/lib64/python3.6/site-packages/zmq/backend/cython/checkrc.pxd\u001b[0m in \u001b[0;36mzmq.backend.cython.checkrc._check_rc\u001b[0;34m()\u001b[0m\n",
      "\u001b[0;31mKeyboardInterrupt\u001b[0m: ",
      "\nDuring handling of the above exception, another exception occurred:\n",
      "\u001b[0;31mKeyboardInterrupt\u001b[0m                         Traceback (most recent call last)",
      "\u001b[0;32m<ipython-input-6-76fc72752127>\u001b[0m in \u001b[0;36m<module>\u001b[0;34m()\u001b[0m\n\u001b[1;32m      1\u001b[0m \u001b[0;32mwhile\u001b[0m \u001b[0;32mTrue\u001b[0m\u001b[0;34m:\u001b[0m\u001b[0;34m\u001b[0m\u001b[0m\n\u001b[0;32m----> 2\u001b[0;31m     \u001b[0mline_raw\u001b[0m \u001b[0;34m=\u001b[0m \u001b[0minput\u001b[0m\u001b[0;34m(\u001b[0m\u001b[0;34m\"> \"\u001b[0m\u001b[0;34m)\u001b[0m\u001b[0;34m\u001b[0m\u001b[0m\n\u001b[0m\u001b[1;32m      3\u001b[0m     \u001b[0;32mif\u001b[0m \u001b[0;32mnot\u001b[0m \u001b[0mline_raw\u001b[0m\u001b[0;34m:\u001b[0m\u001b[0;34m\u001b[0m\u001b[0m\n\u001b[1;32m      4\u001b[0m         \u001b[0;32mbreak\u001b[0m\u001b[0;34m\u001b[0m\u001b[0m\n\u001b[1;32m      5\u001b[0m \u001b[0;34m\u001b[0m\u001b[0m\n",
      "\u001b[0;32m/usr/lib/python3.6/site-packages/ipykernel/kernelbase.py\u001b[0m in \u001b[0;36mraw_input\u001b[0;34m(self, prompt)\u001b[0m\n\u001b[1;32m    702\u001b[0m             \u001b[0mself\u001b[0m\u001b[0;34m.\u001b[0m\u001b[0m_parent_ident\u001b[0m\u001b[0;34m,\u001b[0m\u001b[0;34m\u001b[0m\u001b[0m\n\u001b[1;32m    703\u001b[0m             \u001b[0mself\u001b[0m\u001b[0;34m.\u001b[0m\u001b[0m_parent_header\u001b[0m\u001b[0;34m,\u001b[0m\u001b[0;34m\u001b[0m\u001b[0m\n\u001b[0;32m--> 704\u001b[0;31m             \u001b[0mpassword\u001b[0m\u001b[0;34m=\u001b[0m\u001b[0;32mFalse\u001b[0m\u001b[0;34m,\u001b[0m\u001b[0;34m\u001b[0m\u001b[0m\n\u001b[0m\u001b[1;32m    705\u001b[0m         )\n\u001b[1;32m    706\u001b[0m \u001b[0;34m\u001b[0m\u001b[0m\n",
      "\u001b[0;32m/usr/lib/python3.6/site-packages/ipykernel/kernelbase.py\u001b[0m in \u001b[0;36m_input_request\u001b[0;34m(self, prompt, ident, parent, password)\u001b[0m\n\u001b[1;32m    732\u001b[0m             \u001b[0;32mexcept\u001b[0m \u001b[0mKeyboardInterrupt\u001b[0m\u001b[0;34m:\u001b[0m\u001b[0;34m\u001b[0m\u001b[0m\n\u001b[1;32m    733\u001b[0m                 \u001b[0;31m# re-raise KeyboardInterrupt, to truncate traceback\u001b[0m\u001b[0;34m\u001b[0m\u001b[0;34m\u001b[0m\u001b[0m\n\u001b[0;32m--> 734\u001b[0;31m                 \u001b[0;32mraise\u001b[0m \u001b[0mKeyboardInterrupt\u001b[0m\u001b[0;34m\u001b[0m\u001b[0m\n\u001b[0m\u001b[1;32m    735\u001b[0m             \u001b[0;32melse\u001b[0m\u001b[0;34m:\u001b[0m\u001b[0;34m\u001b[0m\u001b[0m\n\u001b[1;32m    736\u001b[0m                 \u001b[0;32mbreak\u001b[0m\u001b[0;34m\u001b[0m\u001b[0m\n",
      "\u001b[0;31mKeyboardInterrupt\u001b[0m: "
     ]
    }
   ],
   "source": [
    "while True:\n",
    "    line_raw = input(\"> \")\n",
    "    if not line_raw:\n",
    "        break\n",
    "\n",
    "    line = gensim.utils.simple_preprocess(mecab.parse(line_raw), min_len=1)\n",
    "#     #教師データに無い文章のベクトルを推定\n",
    "#     vec = model.infer_vector(line, min_len=1))\n",
    "#     # コサイン類似度を算出\n",
    "#     sims = cosine_similarity([vec], doc_vecs)\n",
    "#     # 降順に配列を並び替えて、配列のインデックスを返す。\n",
    "#     index = np.argsort(sims[0])[::-1]\n",
    "\n",
    "    # 内部関数で類似度算出\n",
    "    sims = []\n",
    "    for pp in purpose:\n",
    "        # 教師データに無い２つの新規文章を比較\n",
    "        # デフォルトでは、alpha=0.1, min_alpha=0.0001, steps=5\n",
    "        sims.append(model.docvecs.similarity_unseen_docs(model, line, pp))\n",
    "    # 降順に配列を並び替えて、配列のインデックスを返す。\n",
    "    index = np.argsort(sims)[::-1]\n",
    "\n",
    "    # 以下の関数だと学習済みのドキュメントしか比較できない\n",
    "#     sims2 = []\n",
    "#     for pp in purpose:\n",
    "#         sims2.append(model.docvecs.n_similarity(line, purpose))\n",
    "#     index2 = np.argsort(sims2)[::-1]\n",
    "\n",
    "    \n",
    "    for i in range(10):\n",
    "#         print(i+1, \"位：\", sims[0][index[i]], purpose[index[i]])\n",
    "        print(i+1, \"位：\", sims[index[i]], purpose[index[i]])\n",
    "#         print(i+1, \"位：\", sims[index2[i]], purpose[index2[i]])\n"
   ]
  },
  {
   "cell_type": "code",
   "execution_count": null,
   "metadata": {},
   "outputs": [],
   "source": []
  },
  {
   "cell_type": "code",
   "execution_count": null,
   "metadata": {},
   "outputs": [],
   "source": []
  }
 ],
 "metadata": {
  "kernelspec": {
   "display_name": "Python 3",
   "language": "python",
   "name": "python3"
  },
  "language_info": {
   "codemirror_mode": {
    "name": "ipython",
    "version": 3
   },
   "file_extension": ".py",
   "mimetype": "text/x-python",
   "name": "python",
   "nbconvert_exporter": "python",
   "pygments_lexer": "ipython3",
   "version": "3.6.3"
  }
 },
 "nbformat": 4,
 "nbformat_minor": 2
}
